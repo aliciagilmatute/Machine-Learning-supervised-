{
 "cells": [
  {
   "cell_type": "markdown",
   "id": "0d816369",
   "metadata": {},
   "source": [
    "# Modelo de Máquinas de Vector Soporte"
   ]
  },
  {
   "cell_type": "code",
   "execution_count": 2,
   "id": "a1ff1e11-17c6-4022-ac01-1960c63a999d",
   "metadata": {},
   "outputs": [],
   "source": [
    "from seaborn import load_dataset, pairplot\n",
    "import matplotlib.pyplot as plt\n",
    "import numpy as np\n",
    "import pandas as pd\n",
    "from sklearn.svm import SVC\n",
    "from sklearn.model_selection import train_test_split\n",
    "from sklearn.metrics import accuracy_score\n"
   ]
  },
  {
   "cell_type": "code",
   "execution_count": 3,
   "id": "5f335a99-cc8d-446e-90da-ba8e89664a32",
   "metadata": {},
   "outputs": [
    {
     "name": "stdout",
     "output_type": "stream",
     "text": [
      "         ID  GRADRAT    CSAT  MATRICULADOS  PUBLICO  STUAULA  GASTO   ACT\n",
      "0      1002     40.0     NaN      6.891626        1     14.3   2.55  17.0\n",
      "1      1003     55.0     NaN      5.187386        0     32.8   3.25  20.0\n",
      "2      1004     51.0     NaN      6.345636        1     18.9    NaN  21.0\n",
      "3      1005     15.0     NaN      7.153052        1     18.7    NaN   NaN\n",
      "4      1009     69.0  1076.0      8.029433        1     16.7    NaN  24.0\n",
      "...     ...      ...     ...           ...      ...      ...    ...   ...\n",
      "1297  29099     64.0   850.0      6.113682        0     15.4    NaN   NaN\n",
      "1298  29100      NaN     NaN      7.448334        1     11.7    NaN   NaN\n",
      "1299  29258     55.0  1005.0      5.955837        0     16.1   5.00  23.0\n",
      "1300  29261     58.0  1136.0      3.931826        0      9.3    NaN  23.0\n",
      "1301  30431     60.0  1066.0      3.091042        0     11.8    NaN  25.0\n",
      "\n",
      "[1302 rows x 8 columns]\n"
     ]
    }
   ],
   "source": [
    "df = pd.read_csv(\"U.S. Colleges.dat\", sep=\"\\t\")\n",
    "print(df)\n"
   ]
  },
  {
   "cell_type": "code",
   "execution_count": 4,
   "id": "31e5a1ce",
   "metadata": {},
   "outputs": [
    {
     "name": "stdout",
     "output_type": "stream",
     "text": [
      "         ID  GRADRAT    CSAT  MATRICULADOS  PUBLICO  STUAULA  GASTO   ACT\n",
      "5      1012     72.0  1100.0      5.659482        0     14.0  4.480  26.0\n",
      "7      1019     44.0   959.0      4.844187        0     11.4  3.920  23.0\n",
      "15     1041     70.0   990.0      5.438079        0     14.4  4.788  24.0\n",
      "18     1047     48.0   980.0      6.714171        1     23.0  2.570  20.0\n",
      "22     1055     38.0  1010.0      6.098074        1     12.7  3.500  24.0\n",
      "...     ...      ...     ...           ...      ...      ...    ...   ...\n",
      "1257   9265     42.0  1040.0      7.383989        1     17.0  2.744  23.0\n",
      "1279  10311     73.0  1020.0      6.692084        0     17.7  3.528  24.0\n",
      "1281  10366     69.0  1069.0      8.762802        1     23.1  3.412  25.0\n",
      "1296  29059     55.0   905.0      4.969813        0     13.1  4.440  22.0\n",
      "1299  29258     55.0  1005.0      5.955837        0     16.1  5.000  23.0\n",
      "\n",
      "[297 rows x 8 columns]\n"
     ]
    }
   ],
   "source": [
    "df=df.dropna()\n",
    "print(df)"
   ]
  },
  {
   "cell_type": "markdown",
   "id": "19ab0b86",
   "metadata": {},
   "source": [
    "Queremos clasificar a diferentes centros en centro Público (1) y centro Privado (0) en función del número de matriculados y la ratio estudiante/aula. Nuestra hipótesis es que el modelo clasificará como centro publico aquellos casos donde haya más estudiantes matriculados y más estudiantes/aula, con lo cual, por encima del hiperplano quedarán los casos del centro público y por debajo los del centro privado."
   ]
  },
  {
   "cell_type": "code",
   "execution_count": 5,
   "id": "04da51c9-2e2b-4f44-904b-44612959755c",
   "metadata": {},
   "outputs": [
    {
     "name": "stdout",
     "output_type": "stream",
     "text": [
      "{0, 1}\n"
     ]
    }
   ],
   "source": [
    "print(set(df['PUBLICO']))"
   ]
  },
  {
   "cell_type": "code",
   "execution_count": 6,
   "id": "66494fcf-e44b-42d5-8d4e-fd82b82b1b45",
   "metadata": {},
   "outputs": [
    {
     "name": "stdout",
     "output_type": "stream",
     "text": [
      "      MATRICULADOS  STUAULA\n",
      "5         5.659482     14.0\n",
      "7         4.844187     11.4\n",
      "15        5.438079     14.4\n",
      "18        6.714171     23.0\n",
      "22        6.098074     12.7\n",
      "...            ...      ...\n",
      "1257      7.383989     17.0\n",
      "1279      6.692084     17.7\n",
      "1281      8.762802     23.1\n",
      "1296      4.969813     13.1\n",
      "1299      5.955837     16.1\n",
      "\n",
      "[297 rows x 2 columns]\n",
      "5       0\n",
      "7       0\n",
      "15      0\n",
      "18      1\n",
      "22      1\n",
      "       ..\n",
      "1257    1\n",
      "1279    0\n",
      "1281    1\n",
      "1296    0\n",
      "1299    0\n",
      "Name: PUBLICO, Length: 297, dtype: int64\n"
     ]
    }
   ],
   "source": [
    "#x=variables numericas\n",
    "x=df[['MATRICULADOS', 'STUAULA']]\n",
    "y=df['PUBLICO']\n",
    "\n",
    "print(x)\n",
    "print(y)"
   ]
  },
  {
   "cell_type": "code",
   "execution_count": 7,
   "id": "c076bfaa-1fc7-4f15-bc96-2d00205b4b4e",
   "metadata": {},
   "outputs": [
    {
     "name": "stdout",
     "output_type": "stream",
     "text": [
      "      MATRICULADOS  STUAULA\n",
      "802       6.495266     17.6\n",
      "1015      6.115892     18.5\n",
      "989       6.645091     12.8\n",
      "1071      5.327876     12.1\n",
      "152       7.418181      7.5\n",
      "...            ...      ...\n",
      "299       5.942799     13.6\n",
      "241       5.655992     12.7\n",
      "360       5.730100     13.1\n",
      "1188      5.298317     15.9\n",
      "39        5.613128     13.1\n",
      "\n",
      "[222 rows x 2 columns]\n",
      "      MATRICULADOS  STUAULA\n",
      "969       4.477337     15.2\n",
      "705       5.075174     11.6\n",
      "982       5.036953     11.4\n",
      "803       5.342334     13.3\n",
      "1008      6.415097     16.2\n",
      "...            ...      ...\n",
      "872       7.400621     13.9\n",
      "154       4.605170      8.3\n",
      "844       6.543912     13.3\n",
      "1047      5.955837     11.4\n",
      "748       7.554859     18.3\n",
      "\n",
      "[75 rows x 2 columns]\n",
      "802     0\n",
      "1015    0\n",
      "989     1\n",
      "1071    0\n",
      "152     0\n",
      "       ..\n",
      "299     0\n",
      "241     0\n",
      "360     0\n",
      "1188    0\n",
      "39      0\n",
      "Name: PUBLICO, Length: 222, dtype: int64\n"
     ]
    }
   ],
   "source": [
    "x_train, x_test, y_train, y_test = train_test_split(x, y, random_state=100) #por defecto\n",
    "\n",
    "print(x_train) #por defecto: 75% de los datos para el entrenamiento y el 25% test\n",
    "\n",
    "print(x_test)\n",
    "\n",
    "print(y_train)\n"
   ]
  },
  {
   "cell_type": "code",
   "execution_count": 8,
   "id": "9ae23a2b-3903-4531-8916-781336e44ba1",
   "metadata": {},
   "outputs": [
    {
     "name": "stdout",
     "output_type": "stream",
     "text": [
      "[1.40707556 0.20816288]\n",
      "-12.99953817636577\n"
     ]
    }
   ],
   "source": [
    "clf = SVC(kernel='linear') \n",
    "clf.fit(x_train, y_train)\n",
    "from seaborn import scatterplot\n",
    "w = clf.coef_[0]\n",
    "b = clf.intercept_[0]\n",
    "print(w)\n",
    "print(b)"
   ]
  },
  {
   "cell_type": "code",
   "execution_count": 9,
   "id": "625b363e-b408-453d-94fd-ab14a753dd19",
   "metadata": {},
   "outputs": [
    {
     "name": "stdout",
     "output_type": "stream",
     "text": [
      "[ 2.          2.16326531  2.32653061  2.48979592  2.65306122  2.81632653\n",
      "  2.97959184  3.14285714  3.30612245  3.46938776  3.63265306  3.79591837\n",
      "  3.95918367  4.12244898  4.28571429  4.44897959  4.6122449   4.7755102\n",
      "  4.93877551  5.10204082  5.26530612  5.42857143  5.59183673  5.75510204\n",
      "  5.91836735  6.08163265  6.24489796  6.40816327  6.57142857  6.73469388\n",
      "  6.89795918  7.06122449  7.2244898   7.3877551   7.55102041  7.71428571\n",
      "  7.87755102  8.04081633  8.20408163  8.36734694  8.53061224  8.69387755\n",
      "  8.85714286  9.02040816  9.18367347  9.34693878  9.51020408  9.67346939\n",
      "  9.83673469 10.        ]\n"
     ]
    }
   ],
   "source": [
    "x_visual = np.linspace(2,10)  #eje x del grafico posterior\n",
    "print(x_visual)"
   ]
  },
  {
   "cell_type": "code",
   "execution_count": 10,
   "id": "fee9ae61-815d-402d-a0f0-e2ab222d780c",
   "metadata": {},
   "outputs": [
    {
     "name": "stdout",
     "output_type": "stream",
     "text": [
      "[48.92989108 47.82630037 46.72270966 45.61911895 44.51552824 43.41193752\n",
      " 42.30834681 41.2047561  40.10116539 38.99757468 37.89398396 36.79039325\n",
      " 35.68680254 34.58321183 33.47962112 32.3760304  31.27243969 30.16884898\n",
      " 29.06525827 27.96166756 26.85807685 25.75448613 24.65089542 23.54730471\n",
      " 22.443714   21.34012329 20.23653257 19.13294186 18.02935115 16.92576044\n",
      " 15.82216973 14.71857901 13.6149883  12.51139759 11.40780688 10.30421617\n",
      "  9.20062545  8.09703474  6.99344403  5.88985332  4.78626261  3.68267189\n",
      "  2.57908118  1.47549047  0.37189976 -0.73169095 -1.83528166 -2.93887238\n",
      " -4.04246309 -5.1460538 ]\n"
     ]
    }
   ],
   "source": [
    "y_visual = -(w[0] / w[1]) * x_visual - b / w[1]\n",
    "print(y_visual)"
   ]
  },
  {
   "cell_type": "code",
   "execution_count": 11,
   "id": "a6529ff2-cf02-4834-84f1-673c23194e78",
   "metadata": {},
   "outputs": [
    {
     "name": "stdout",
     "output_type": "stream",
     "text": [
      "Axes(0.125,0.11;0.775x0.77)\n"
     ]
    },
    {
     "data": {
      "image/png": "[encoded data removed]",
      "text/plain": [
       "<Figure size 640x480 with 1 Axes>"
      ]
     },
     "metadata": {},
     "output_type": "display_data"
    }
   ],
   "source": [
    "print(scatterplot(data = x_train, x='MATRICULADOS', y='STUAULA', hue=y_train))\n",
    "\n",
    "plt.plot(x_visual,y_visual)\n",
    "plt.show()\n",
    "\n",
    "#con datos train"
   ]
  },
  {
   "cell_type": "markdown",
   "id": "1f7b52de",
   "metadata": {},
   "source": [
    "Como pordemos ver en el gráfico el hiperplano clasifica bien a pesar de unos pocos casos. Como imaginabamos, los casos que pertenecen al centro publico quedan por encima del hiperplano y los que pertenecen al centro privado quedan por debajo. Se confirma nuestra hipótesis pero antes aseguremonos de que nuestro modelo de MVS tiene un buen ajuste, porque podría no haber encontrado el mejor de los hiperplanos."
   ]
  },
  {
   "cell_type": "code",
   "execution_count": 12,
   "id": "488972b3-0149-4eeb-ad84-b087c7a8969a",
   "metadata": {},
   "outputs": [
    {
     "name": "stdout",
     "output_type": "stream",
     "text": [
      "[0 0 0 0 0 0 1 0 0 0]\n",
      "0.9333333333333333\n"
     ]
    }
   ],
   "source": [
    "#con datos test\n",
    "\n",
    "predictions = clf.predict(x_test)\n",
    "print(predictions[:10]) #10 primeras predicciones\n",
    "\n",
    "#ajuste\n",
    "print(accuracy_score(y_test, predictions)) \n",
    "\n",
    "plt.show()\n"
   ]
  },
  {
   "cell_type": "markdown",
   "id": "52378fd9",
   "metadata": {},
   "source": [
    "Hemos predicho los 10 primeros casos y el resultado es que 9/10 los predice como pertenecientes al centro publico y solo uno al centro privado.\n",
    "\n",
    "Por último, obtenemos un ajuste de 0.93 (casi 1), es un ajuste muy bueno con lo cual, este modelo de MVS clasifica muy bien a los centros en centros publicos/privados en función al numero de estudiantes matriculados y a la ratio estudiante/aula."
   ]
  }
 ],
 "metadata": {
  "kernelspec": {
   "display_name": "base",
   "language": "python",
   "name": "python3"
  },
  "language_info": {
   "codemirror_mode": {
    "name": "ipython",
    "version": 3
   },
   "file_extension": ".py",
   "mimetype": "text/x-python",
   "name": "python",
   "nbconvert_exporter": "python",
   "pygments_lexer": "ipython3",
   "version": "3.11.5"
  }
 },
 "nbformat": 4,
 "nbformat_minor": 5
}
