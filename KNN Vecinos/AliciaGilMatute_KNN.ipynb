{
 "cells": [
  {
   "cell_type": "markdown",
   "metadata": {},
   "source": [
    "# Modelo de K-Vecinos Más Próximos (KNN)"
   ]
  },
  {
   "cell_type": "markdown",
   "metadata": {},
   "source": [
    "MODELO DE VARIABLES CATEGORICAS (salvo edad y años consumiendo)"
   ]
  },
  {
   "cell_type": "code",
   "execution_count": 5,
   "metadata": {},
   "outputs": [
    {
     "name": "stdout",
     "output_type": "stream",
     "text": [
      "   id  régimen  sexo  edad  edad_c  años  años_c  años_cat  tto  recuperación  \\\n",
      "0   1        3     1    18     -16     2     -12         1    0             0   \n",
      "1   2        2     1    25      -9    10      -4         3    0             0   \n",
      "2   3        3     1    26      -8    11      -3         3    0             0   \n",
      "3   4        2     1    26      -8     8      -6         2    0             0   \n",
      "4   5        2     1    28      -6    12      -2         3    0             1   \n",
      "\n",
      "   recaída  \n",
      "0        2  \n",
      "1        2  \n",
      "2        1  \n",
      "3        2  \n",
      "4        3  \n"
     ]
    }
   ],
   "source": [
    "import pandas as pd\n",
    "import matplotlib.pyplot as plt\n",
    "import numpy as np\n",
    "\n",
    "depresion = pd.read_csv(\"r_logistica.csv\", sep=\";\")\n",
    "#comprobamos que se ha cargado viendo los primeros registros\n",
    "print(depresion.head())"
   ]
  },
  {
   "cell_type": "code",
   "execution_count": 6,
   "metadata": {},
   "outputs": [
    {
     "name": "stdout",
     "output_type": "stream",
     "text": [
      "   régimen  edad  años  tto  recuperación  recaída\n",
      "0        3    18     2    0             0        2\n",
      "1        2    25    10    0             0        2\n",
      "2        3    26    11    0             0        1\n",
      "3        2    26     8    0             0        2\n",
      "4        2    28    12    0             1        3\n"
     ]
    }
   ],
   "source": [
    "#quitamos el id y el sexo (no interesan), edad_c, años_c, años_cat (redundantes)\n",
    "depresion = depresion.drop([\"id\",\"sexo\",\"edad_c\",\"años_c\",\"años_cat\"], axis=1)\n",
    "\n",
    "print(depresion.head())\n"
   ]
  },
  {
   "cell_type": "code",
   "execution_count": 7,
   "metadata": {},
   "outputs": [
    {
     "name": "stdout",
     "output_type": "stream",
     "text": [
      "[[ 3 18  2  0  0]\n",
      " [ 2 25 10  0  0]\n",
      " [ 3 26 11  0  0]\n",
      " [ 2 26  8  0  0]\n",
      " [ 2 28 12  0  1]\n",
      " [ 3 29 11  0  0]\n",
      " [ 3 29 12  0  0]\n",
      " [ 3 30 12  0  0]\n",
      " [ 1 30 16  0  0]\n",
      " [ 1 30 15  0  0]\n",
      " [ 1 30 10  0  0]\n",
      " [ 1 31 16  0  0]\n",
      " [ 3 31 15  0  0]\n",
      " [ 2 31 13  0  1]\n",
      " [ 2 32 16  0  0]\n",
      " [ 3 32 11  0  0]\n",
      " [ 2 32 19  0  0]\n",
      " [ 3 32 15  0  1]\n",
      " [ 1 33 18  0  0]\n",
      " [ 2 33 16  0  0]\n",
      " [ 3 33 15  0  1]\n",
      " [ 2 33 18  0  0]\n",
      " [ 1 34 18  0  0]\n",
      " [ 1 34 18  0  0]\n",
      " [ 1 35 19  0  0]\n",
      " [ 1 35 15  0  0]\n",
      " [ 1 35 17  0  0]\n",
      " [ 2 35 12  0  0]\n",
      " [ 3 37 12  0  0]\n",
      " [ 1 37 19  0  1]\n",
      " [ 3 37  7  0  1]\n",
      " [ 1 38 22  0  0]\n",
      " [ 2 38 15  0  0]\n",
      " [ 1 39 18  0  0]\n",
      " [ 2 39 15  0  0]\n",
      " [ 1 40 22  0  1]\n",
      " [ 1 41 13  0  1]\n",
      " [ 3 42 11  0  0]\n",
      " [ 1 44 20  0  0]\n",
      " [ 2 47 20  0  1]\n",
      " [ 1 48 22  0  0]\n",
      " [ 1 49 21  0  0]\n",
      " [ 2 22  7  1  1]\n",
      " [ 2 23  6  1  1]\n",
      " [ 2 24  3  1  1]\n",
      " [ 3 25  9  1  1]\n",
      " [ 3 26 10  1  1]\n",
      " [ 1 27 10  1  0]\n",
      " [ 2 27 13  1  1]\n",
      " [ 2 27  7  1  1]\n",
      " [ 2 28  3  1  1]\n",
      " [ 1 28 10  1  1]\n",
      " [ 1 29 14  1  0]\n",
      " [ 2 29 10  1  1]\n",
      " [ 2 29  9  1  1]\n",
      " [ 2 31 10  1  0]\n",
      " [ 3 32 14  1  1]\n",
      " [ 2 32 13  1  1]\n",
      " [ 2 33 13  1  1]\n",
      " [ 2 34 14  1  1]\n",
      " [ 1 34 16  1  0]\n",
      " [ 3 35 10  1  1]\n",
      " [ 3 36 16  1  0]\n",
      " [ 3 36 14  1  1]\n",
      " [ 2 36 13  1  1]\n",
      " [ 2 37 16  1  1]\n",
      " [ 1 37  9  1  1]\n",
      " [ 1 38 20  1  0]\n",
      " [ 3 38 14  1  1]\n",
      " [ 3 39 19  1  0]\n",
      " [ 3 39 16  1  0]\n",
      " [ 3 40 19  1  0]\n",
      " [ 1 41 19  1  0]\n",
      " [ 3 41 12  1  1]\n",
      " [ 3 42 16  1  1]\n",
      " [ 2 42 15  1  0]\n",
      " [ 1 43 19  1  0]\n",
      " [ 2 44 15  1  0]\n",
      " [ 2 45  7  1  1]\n",
      " [ 2 47 15  1  1]\n",
      " [ 1 50 13  1  1]\n",
      " [ 3 50 12  1  1]\n",
      " [ 1 51 20  1  0]\n",
      " [ 1 52 22  1  0]]\n",
      "[2 2 1 2 3 1 2 1 1 1 2 1 1 3 1 1 1 3 1 1 3 1 1 1 1 1 1 1 1 2 3 1 1 1 1 2 2\n",
      " 1 1 2 1 1 3 3 3 3 3 1 3 3 3 2 1 3 3 1 3 3 3 3 1 3 1 3 2 2 2 1 3 1 1 1 1 3\n",
      " 3 1 1 2 3 3 2 3 1 1]\n"
     ]
    }
   ],
   "source": [
    "#los vectores en el espacio serán solo las variables independientes\n",
    "#Será la matriz X. Por eso se quita la variable criterio.\n",
    "\n",
    "X = depresion.drop(\"recaída\", axis=1)\n",
    "X = X.values\n",
    "\n",
    "#También en el vector y se colocan los valores de la variable a predecir (recaidas)\n",
    "y = depresion[\"recaída\"]\n",
    "y = y.values\n",
    "\n",
    "print(X)\n",
    "print(y)"
   ]
  },
  {
   "cell_type": "code",
   "execution_count": 8,
   "metadata": {},
   "outputs": [],
   "source": [
    "#Se incluye un nuevo ejemplar del que se ha de estimar la recaída\n",
    "new_data_point = np.array([\n",
    "2,\n",
    "21,\n",
    "4,\n",
    "1,\n",
    "1\n",
    "])"
   ]
  },
  {
   "cell_type": "code",
   "execution_count": 9,
   "metadata": {},
   "outputs": [
    {
     "name": "stdout",
     "output_type": "stream",
     "text": [
      "[ 4.          7.34846923  8.77496439  6.55743852 10.67707825 10.77032961\n",
      " 11.44552314 12.16552506 15.09966887 14.31782106 10.95445115 15.71623365\n",
      " 14.96662955 13.49073756 16.34013464 13.15294644 18.65475811 15.62049935\n",
      " 18.52025918 17.02938637 16.34013464 18.49324201 19.18332609 19.18332609\n",
      " 20.59126028 17.88854382 19.18332609 16.18641406 17.97220076 21.97726098\n",
      " 16.34013464 24.81934729 20.29778313 22.86919325 21.14237451 26.21068484\n",
      " 21.97726098 22.20360331 28.0713377  30.5450487  32.49615362 32.80243893\n",
      "  3.16227766  2.82842712  3.16227766  6.4807407   7.87400787  8.60232527\n",
      " 10.81665383  6.70820393  7.07106781  9.2736185  12.88409873 10.\n",
      "  9.43398113 11.70469991 14.89966443 14.2126704  15.         16.40121947\n",
      " 17.74823935 15.26433752 19.26136028 18.05547009 17.49285568 20.\n",
      " 16.79285562 23.38803113 19.74841766 23.47338919 21.67948339 24.24871131\n",
      " 25.03996805 21.56385865 24.20743687 23.72762104 26.66458325 25.51470164\n",
      " 24.18677324 28.23118843 30.38091506 30.09983389 34.02939905 35.87478223]\n",
      "[43 44 42]\n",
      "[3 3 3]\n",
      "3.0\n"
     ]
    }
   ],
   "source": [
    "#se calculan las distancias entre el nuevo y todos los vectores de la matriz\n",
    "#esto se hace calculando la norma a dichas restas\n",
    "\n",
    "distances = np.linalg.norm(X-new_data_point, axis=1)  #distancia euclidea. La norma\n",
    "print(distances)\n",
    "\n",
    "#calculadas las distancias, se ha de coger un vecindario de 3\n",
    "#para ello se ordenan las distancias y se toman los índices de las distancias más cortas\n",
    "\n",
    "k = 3\n",
    "nearest_neighbor_ids = distances.argsort()[:k]\n",
    "print(nearest_neighbor_ids)\n",
    "\n",
    "#ahora tomamos los valores en y de esos índices. y contiene los valores en \"rings\"\n",
    "nearest_neighbor_rings = y[nearest_neighbor_ids]\n",
    "print(nearest_neighbor_rings)\n",
    "\n",
    "#la predicción será el promedio de los valores de \"rings\" de esos vecinos.\n",
    "prediction = nearest_neighbor_rings.mean()\n",
    "print(prediction)"
   ]
  },
  {
   "cell_type": "markdown",
   "metadata": {},
   "source": [
    "Ha predicho que nuestro sujeto que se encuentra en el regimen 2 (externo), de 21 años, que lleva 4 años consumiendo, que recibe el tratamiento 1 (combinado) y que se ha recuperado no va a recaer"
   ]
  },
  {
   "cell_type": "markdown",
   "metadata": {},
   "source": [
    "Vamos a ver que predicciones hace para distintos valores de K"
   ]
  },
  {
   "cell_type": "code",
   "execution_count": 10,
   "metadata": {},
   "outputs": [
    {
     "name": "stdout",
     "output_type": "stream",
     "text": [
      "[ 4.          7.34846923  8.77496439  6.55743852 10.67707825 10.77032961\n",
      " 11.44552314 12.16552506 15.09966887 14.31782106 10.95445115 15.71623365\n",
      " 14.96662955 13.49073756 16.34013464 13.15294644 18.65475811 15.62049935\n",
      " 18.52025918 17.02938637 16.34013464 18.49324201 19.18332609 19.18332609\n",
      " 20.59126028 17.88854382 19.18332609 16.18641406 17.97220076 21.97726098\n",
      " 16.34013464 24.81934729 20.29778313 22.86919325 21.14237451 26.21068484\n",
      " 21.97726098 22.20360331 28.0713377  30.5450487  32.49615362 32.80243893\n",
      "  3.16227766  2.82842712  3.16227766  6.4807407   7.87400787  8.60232527\n",
      " 10.81665383  6.70820393  7.07106781  9.2736185  12.88409873 10.\n",
      "  9.43398113 11.70469991 14.89966443 14.2126704  15.         16.40121947\n",
      " 17.74823935 15.26433752 19.26136028 18.05547009 17.49285568 20.\n",
      " 16.79285562 23.38803113 19.74841766 23.47338919 21.67948339 24.24871131\n",
      " 25.03996805 21.56385865 24.20743687 23.72762104 26.66458325 25.51470164\n",
      " 24.18677324 28.23118843 30.38091506 30.09983389 34.02939905 35.87478223]\n",
      "    k                   nearest_neighbor_ids          nearest_neighbor_rings  \\\n",
      "0   1                                   [43]                             [3]   \n",
      "1   2                               [43, 44]                          [3, 3]   \n",
      "2   3                           [43, 44, 42]                       [3, 3, 3]   \n",
      "3   4                        [43, 44, 42, 0]                    [3, 3, 3, 2]   \n",
      "4   5                    [43, 44, 42, 0, 45]                 [3, 3, 3, 2, 3]   \n",
      "5   6                 [43, 44, 42, 0, 45, 3]              [3, 3, 3, 2, 3, 2]   \n",
      "6   7             [43, 44, 42, 0, 45, 3, 49]           [3, 3, 3, 2, 3, 2, 3]   \n",
      "7   8         [43, 44, 42, 0, 45, 3, 49, 50]        [3, 3, 3, 2, 3, 2, 3, 3]   \n",
      "8   9      [43, 44, 42, 0, 45, 3, 49, 50, 1]     [3, 3, 3, 2, 3, 2, 3, 3, 2]   \n",
      "9  10  [43, 44, 42, 0, 45, 3, 49, 50, 1, 46]  [3, 3, 3, 2, 3, 2, 3, 3, 2, 3]   \n",
      "\n",
      "   prediction  \n",
      "0           3  \n",
      "1           3  \n",
      "2           3  \n",
      "3           3  \n",
      "4           3  \n",
      "5           3  \n",
      "6           3  \n",
      "7           3  \n",
      "8           3  \n",
      "9           3  \n"
     ]
    },
    {
     "name": "stderr",
     "output_type": "stream",
     "text": [
      "C:\\Users\\alici\\AppData\\Local\\Temp\\ipykernel_28576\\3631891383.py:11: FutureWarning: Unlike other reduction functions (e.g. `skew`, `kurtosis`), the default behavior of `mode` typically preserves the axis it acts along. In SciPy 1.11.0, this behavior will change: the default value of `keepdims` will become False, the `axis` over which the statistic is taken will be eliminated, and the value None will no longer be accepted. Set `keepdims` to True or False to avoid this warning.\n",
      "  prediction = mode(nearest_neighbor_rings).mode[0]  # Usamos la moda para la predicción categórica\n"
     ]
    }
   ],
   "source": [
    "from scipy.stats import mode\n",
    "\n",
    "distances = np.linalg.norm(X-new_data_point, axis=1)  #distancia euclidea. La norma\n",
    "print(distances)\n",
    "\n",
    "results = []\n",
    "\n",
    "for k in range(1, 11):\n",
    "    nearest_neighbor_ids = distances.argsort()[:k]\n",
    "    nearest_neighbor_rings = y[nearest_neighbor_ids]\n",
    "    prediction = mode(nearest_neighbor_rings).mode[0]  # Usamos la moda para la predicción categórica\n",
    "    \n",
    "    # Agregar los resultados al listado\n",
    "    results.append({\n",
    "        'k': k,\n",
    "        'nearest_neighbor_ids': nearest_neighbor_ids,\n",
    "        'nearest_neighbor_rings': nearest_neighbor_rings,\n",
    "        'prediction': prediction\n",
    "    })\n",
    "\n",
    "# Convertir el listado de resultados en un DataFrame\n",
    "results_df = pd.DataFrame(results)\n",
    "\n",
    "# Mostrar el DataFrame\n",
    "print(results_df)\n"
   ]
  },
  {
   "cell_type": "markdown",
   "metadata": {},
   "source": [
    "Vemos que con distintos valores de k, se sigue prediciendo que el nuevo sujeto no va a recaer. Esto indica que las características del sujeto son todas favorables a la recuperación, va a recuperarse sí o sí, y que por eso, nuestro modelo de KNN no encuentra divergencias varíando el valor de k."
   ]
  }
 ],
 "metadata": {
  "kernelspec": {
   "display_name": "base",
   "language": "python",
   "name": "python3"
  },
  "language_info": {
   "codemirror_mode": {
    "name": "ipython",
    "version": 3
   },
   "file_extension": ".py",
   "mimetype": "text/x-python",
   "name": "python",
   "nbconvert_exporter": "python",
   "pygments_lexer": "ipython3",
   "version": "3.11.5"
  }
 },
 "nbformat": 4,
 "nbformat_minor": 2
}
